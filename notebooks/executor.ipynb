{
 "cells": [
  {
   "cell_type": "markdown",
   "id": "ffbaac50",
   "metadata": {},
   "source": [
    "For solving path dependencies"
   ]
  },
  {
   "cell_type": "code",
   "execution_count": 2,
   "id": "initial_id",
   "metadata": {
    "ExecuteTime": {
     "end_time": "2023-12-28T17:28:57.491346Z",
     "start_time": "2023-12-28T17:28:57.487854Z"
    },
    "collapsed": true
   },
   "outputs": [],
   "source": [
    "import sys\n",
    "import os\n",
    "\n",
    "current_dir = %pwd\n",
    "\n",
    "# Detect the parent directory dynamically\n",
    "parent_dir = os.path.abspath(os.path.join(current_dir, '..'))\n",
    "sys.path.append(parent_dir)"
   ]
  },
  {
   "cell_type": "code",
   "execution_count": 3,
   "id": "264c7de5",
   "metadata": {},
   "outputs": [],
   "source": [
    "from src.main.evaluation.grid_search import RandomGridSearch\n",
    "from src.main.evaluation.holdout_CV import holdout_CV\n",
    "from src.main.utils import load_hparams, log_experiment, setup_experiment\n",
    "from src.main.dataset_handler import get_monk\n",
    "\n",
    "\n",
    "def print_score(mean, std):\n",
    "    for key in mean.keys():\n",
    "        print(key, \"\\t\", mean[key], \"+\\-\", std[key])\n",
    "\n",
    "\n",
    "x_train, y_train, x_test, y_test = get_monk(1)\n",
    "\n",
    "hyperparameters = load_hparams(\"monk1\")\n",
    "grid_search = RandomGridSearch(hyperparameters)\n",
    "train_mean, train_std, val_mean, val_std, test_mean, test_std, model, histories = (\n",
    "    holdout_CV(x_train, y_train, grid_search, verbose=True)\n",
    ")\n",
    "\n",
    "log_experiment(setup_experiment(\"monk3\"), model, train_mean, train_std, val_mean, val_std, test_mean, test_std, histories)\n",
    "\n",
    "print(\"------ Train scores: ------ \")\n",
    "print_score(train_mean, train_std)\n",
    "print(\"------ Validation scores: ------ \")\n",
    "print_score(val_mean, val_std)\n",
    "print(\"------ Test scores: ------ \")\n",
    "print_score(test_mean, test_std)\n"
   ]
  }
 ],
 "metadata": {
  "kernelspec": {
   "display_name": "Python 3",
   "language": "python",
   "name": "python3"
  },
  "language_info": {
   "codemirror_mode": {
    "name": "ipython",
    "version": 3
   },
   "file_extension": ".py",
   "mimetype": "text/x-python",
   "name": "python",
   "nbconvert_exporter": "python",
   "pygments_lexer": "ipython3",
   "version": "3.10.12"
  }
 },
 "nbformat": 4,
 "nbformat_minor": 5
}
