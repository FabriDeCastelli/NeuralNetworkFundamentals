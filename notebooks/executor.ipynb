{
 "cells": [
  {
   "cell_type": "markdown",
   "id": "ffbaac50",
   "metadata": {},
   "source": [
    "For solving path dependences"
   ]
  },
  {
   "cell_type": "code",
   "execution_count": 14,
   "id": "initial_id",
   "metadata": {
    "collapsed": true
   },
   "outputs": [],
   "source": [
    "import sys\n",
    "import os\n",
    "\n",
    "current_dir = %pwd\n",
    "\n",
    "# Detect the parent directory dynamically\n",
    "parent_dir = os.path.abspath(os.path.join(current_dir, '..'))\n",
    "sys.path.append(parent_dir)"
   ]
  },
  {
   "cell_type": "code",
   "execution_count": 21,
   "id": "4d3f54ec",
   "metadata": {},
   "outputs": [
    {
     "name": "stdout",
     "output_type": "stream",
     "text": [
      "[[5 6]\n",
      " [3 4]\n",
      " [1 2]\n",
      " [7 8]]\n",
      "[30 20 10 40]\n"
     ]
    }
   ],
   "source": [
    "from src.main.utils import *\n",
    "\n",
    "X, y = shuffle_data(np.array([[1, 2], [3, 4], [5, 6], [7, 8]]), np.array([10, 20, 30, 40]))\n",
    "\n",
    "\n",
    "\n",
    "print(X)\n",
    "print(y)"
   ]
  },
  {
   "cell_type": "code",
   "execution_count": 4,
   "outputs": [
    {
     "name": "stdout",
     "output_type": "stream",
     "text": [
      "Name: John, Age: 25\n"
     ]
    }
   ],
   "source": [
    "def example_function(name, age, **kwargs):\n",
    "    print(f\"Name: {name}, Age: {age}\")\n",
    "\n",
    "# Example usage\n",
    "example_function(name=\"John\", age=25, city=\"New York\", occupation=\"Engineer\")\n"
   ],
   "metadata": {
    "collapsed": false,
    "ExecuteTime": {
     "end_time": "2023-12-18T14:15:22.036274Z",
     "start_time": "2023-12-18T14:15:21.981853Z"
    }
   },
   "id": "d24969cc5efae46c"
  },
  {
   "cell_type": "code",
   "execution_count": null,
   "outputs": [],
   "source": [],
   "metadata": {
    "collapsed": false
   },
   "id": "47a7cb6f1133e99"
  }
 ],
 "metadata": {
  "kernelspec": {
   "display_name": "Python 3",
   "language": "python",
   "name": "python3"
  },
  "language_info": {
   "codemirror_mode": {
    "name": "ipython",
    "version": 3
   },
   "file_extension": ".py",
   "mimetype": "text/x-python",
   "name": "python",
   "nbconvert_exporter": "python",
   "pygments_lexer": "ipython3",
   "version": "3.10.12"
  }
 },
 "nbformat": 4,
 "nbformat_minor": 5
}
