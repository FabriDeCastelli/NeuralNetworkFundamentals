{
 "cells": [
  {
   "cell_type": "markdown",
   "id": "ffbaac50",
   "metadata": {},
   "source": [
    "For solving path dependencies"
   ]
  },
  {
   "cell_type": "code",
   "execution_count": 1,
   "id": "initial_id",
   "metadata": {
    "collapsed": true
   },
   "outputs": [],
   "source": [
    "import sys\n",
    "import os\n",
    "\n",
    "current_dir = %pwd\n",
    "\n",
    "# Detect the parent directory dynamically\n",
    "parent_dir = os.path.abspath(os.path.join(current_dir, '..'))\n",
    "sys.path.append(parent_dir)\n",
    "\n",
    "\n",
    "# DEVE CHIAMARE LOG EXPERIMENTS PER SALVARE GLI ESPERIMENTI SU UN CSV"
   ]
  },
  {
   "cell_type": "code",
   "execution_count": 7,
   "id": "37d805cf055e3a71",
   "metadata": {
    "collapsed": false
   },
   "outputs": [
    {
     "name": "stdout",
     "output_type": "stream",
     "text": [
      "(124, 17)\n",
      "(124, 1)\n",
      "(432, 17)\n",
      "(432, 1)\n",
      "------ Train scores: ------ \n",
      "Accuracy \t 0.75 +\\- 0.11483684077855852\n",
      "loss \t 0.2499041739766008 +\\- 0.00016189963994249406\n",
      "------ Validation scores: ------ \n",
      "Accuracy \t 0.7 +\\- 0.1224744871391589\n",
      "loss \t 0.2500092554794205 +\\- 0.0006091545059478398\n",
      "------ Test scores: ------ \n",
      "Accuracy \t 0.6936666666666667 +\\- 0.14413111314972135\n",
      "loss \t 0.14868601800451214 +\\- 0.05655789796267408\n"
     ]
    }
   ],
   "source": []
  }
 ],
 "metadata": {
  "kernelspec": {
   "display_name": "Python 3",
   "language": "python",
   "name": "python3"
  },
  "language_info": {
   "codemirror_mode": {
    "name": "ipython",
    "version": 3
   },
   "file_extension": ".py",
   "mimetype": "text/x-python",
   "name": "python",
   "nbconvert_exporter": "python",
   "pygments_lexer": "ipython3",
   "version": "3.10.12"
  }
 },
 "nbformat": 4,
 "nbformat_minor": 5
}
