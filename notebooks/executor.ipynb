{
 "cells": [
  {
   "cell_type": "markdown",
   "id": "ffbaac50",
   "metadata": {},
   "source": [
    "For solving path dependencies"
   ]
  },
  {
   "cell_type": "code",
   "execution_count": null,
   "id": "initial_id",
   "metadata": {
    "collapsed": true
   },
   "outputs": [],
   "source": [
    "import sys\n",
    "import os\n",
    "\n",
    "current_dir = %pwd\n",
    "\n",
    "# Detect the parent directory dynamically\n",
    "parent_dir = os.path.abspath(os.path.join(current_dir, '..'))\n",
    "sys.path.append(parent_dir)"
   ]
  },
  {
   "cell_type": "code",
   "execution_count": null,
   "id": "e288ce6c",
   "metadata": {},
   "outputs": [],
   "source": [
    "from sklearn.model_selection import train_test_split\n",
    "from src.main.utilities.dataset_handler import get_monk\n",
    "from src.main.models.layers.dense import Dense\n",
    "from src.main.models.model import Model\n",
    "from src.main.optimizer import SGD\n",
    "from src.main.regularizer import L2, L1\n",
    "from src.main.utilities.utils import log_experiment, setup_experiment\n",
    "\n",
    "x_train, y_train, x_test, y_test = get_monk(3)\n",
    "x_train, x_val, y_train, y_val = train_test_split(x_train, y_train, test_size=0.1, random_state=42)\n",
    "\n",
    "epochs = 350\n",
    "batch_size = x_train.shape[0]\n",
    "\n",
    "model = Model()\n",
    "model.add(Dense(17, 4, activation=\"relu\", weight_initializer=\"glorot_uniform\", bias_initializer=\"zeros\"))\n",
    "model.add(Dense(4, 1, activation=\"sigmoid\", weight_initializer=\"glorot_uniform\", bias_initializer=\"zeros\"))\n",
    "\n",
    "optimizer = SGD(learning_rate=0.45, momentum=0.8)\n",
    "reg = L2(0.0007)\n",
    "\n",
    "model.compile(optimizer=optimizer, loss=\"mean_squared_error\", metrics=[\"binary_accuracy\"], regularizer=reg)\n",
    "\n",
    "_, history = model.fit(x_train, y_train, x_val, y_val, epochs=epochs, batch_size=batch_size, verbose=False)\n",
    "\n",
    "train_score = model.evaluate(x_train, y_train)\n",
    "val_score = model.evaluate(x_val, y_val)\n",
    "test_score = model.evaluate(x_test, y_test)\n",
    "train_std = {}\n",
    "val_std = {}\n",
    "test_std = {}\n",
    "\n",
    "for key in test_score.keys():\n",
    "    train_std[key] = 0.0\n",
    "    val_std[key] = 0.0\n",
    "    test_std[key] = 0.0\n",
    "\n",
    "\n",
    "print(\"------ Train scores: ------ \")\n",
    "print(train_score)\n",
    "print(\"------ Validation scores: ------ \")\n",
    "print(val_score)\n",
    "print(\"------ Test scores: ------ \")\n",
    "print(test_score)\n",
    "\n",
    "log_experiment(setup_experiment(\"monk3_reg_2\"),model, epochs, batch_size,train_score, train_std, val_score, val_std, test_score, test_std, [history])\n"
   ]
  }
 ],
 "metadata": {
  "kernelspec": {
   "display_name": "Python 3",
   "language": "python",
   "name": "python3"
  },
  "language_info": {
   "codemirror_mode": {
    "name": "ipython",
    "version": 3
   },
   "file_extension": ".py",
   "mimetype": "text/x-python",
   "name": "python",
   "nbconvert_exporter": "python",
   "pygments_lexer": "ipython3",
   "version": "3.10.12"
  }
 },
 "nbformat": 4,
 "nbformat_minor": 5
}
