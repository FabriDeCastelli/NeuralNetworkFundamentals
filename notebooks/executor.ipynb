{
 "cells": [
  {
   "cell_type": "markdown",
   "id": "ffbaac50",
   "metadata": {},
   "source": [
    "For solving path dependencies"
   ]
  },
  {
   "cell_type": "code",
   "execution_count": 2,
   "id": "initial_id",
   "metadata": {
    "collapsed": true
   },
   "outputs": [],
   "source": [
    "import sys\n",
    "import os\n",
    "\n",
    "current_dir = %pwd\n",
    "\n",
    "# Detect the parent directory dynamically\n",
    "parent_dir = os.path.abspath(os.path.join(current_dir, '..'))\n",
    "sys.path.append(parent_dir)\n",
    "\n",
    "\n",
    "# DEVE CHIAMARE LOG EXPERIMENTS PER SALVARE GLI ESPERIMENTI SU UN CSV"
   ]
  },
  {
   "cell_type": "code",
   "execution_count": 8,
   "id": "daa3a54f",
   "metadata": {},
   "outputs": [
    {
     "name": "stdout",
     "output_type": "stream",
     "text": [
      "Epoch 1/5001 - Loss: {'Binary Accuracy': 0.5, 'loss': 0.24998867659951937}\n",
      "Epoch 51/5001 - Loss: {'Binary Accuracy': 0.5, 'loss': 0.24844783333336007}\n",
      "Epoch 101/5001 - Loss: {'Binary Accuracy': 0.5, 'loss': 0.20556505908661313}\n",
      "Epoch 151/5001 - Loss: {'Binary Accuracy': 0.7016129032258065, 'loss': 0.15855853572933185}\n",
      "Epoch 201/5001 - Loss: {'Binary Accuracy': 0.7580645161290323, 'loss': 0.1362611099881476}\n",
      "Epoch 251/5001 - Loss: {'Binary Accuracy': 0.7661290322580645, 'loss': 0.11887222471746368}\n",
      "Epoch 301/5001 - Loss: {'Binary Accuracy': 0.7741935483870968, 'loss': 0.09522604350217678}\n",
      "Epoch 351/5001 - Loss: {'Binary Accuracy': 0.8064516129032258, 'loss': 0.06805351707012026}\n",
      "Epoch 401/5001 - Loss: {'Binary Accuracy': 0.8951612903225806, 'loss': 0.044425267808588645}\n",
      "Epoch 451/5001 - Loss: {'Binary Accuracy': 0.9758064516129032, 'loss': 0.025542027262463848}\n",
      "Epoch 501/5001 - Loss: {'Binary Accuracy': 1.0, 'loss': 0.015176107188733105}\n",
      "Epoch 551/5001 - Loss: {'Binary Accuracy': 1.0, 'loss': 0.009589486243374157}\n",
      "Epoch 601/5001 - Loss: {'Binary Accuracy': 1.0, 'loss': 0.0068097024483368615}\n",
      "Epoch 651/5001 - Loss: {'Binary Accuracy': 1.0, 'loss': 0.00521558046008743}\n",
      "Epoch 701/5001 - Loss: {'Binary Accuracy': 1.0, 'loss': 0.004180867636924911}\n",
      "Epoch 751/5001 - Loss: {'Binary Accuracy': 1.0, 'loss': 0.0034707646904053057}\n",
      "Epoch 801/5001 - Loss: {'Binary Accuracy': 1.0, 'loss': 0.0029576870511555985}\n",
      "Epoch 851/5001 - Loss: {'Binary Accuracy': 1.0, 'loss': 0.0025665322210404093}\n",
      "Epoch 901/5001 - Loss: {'Binary Accuracy': 1.0, 'loss': 0.0022622971384698982}\n",
      "Epoch 951/5001 - Loss: {'Binary Accuracy': 1.0, 'loss': 0.002019820620649027}\n",
      "Best model at iter:  988\n",
      "Early Stopping Triggered at iter:  988\n",
      "{'Binary Accuracy': 1.0, 'loss': 0.002425792149018505}\n"
     ]
    }
   ],
   "source": [
    "\n",
    "from src.main.dataset_handler import get_monk\n",
    "from src.main.models.layers.dense import Dense\n",
    "from src.main.models.model import Model\n",
    "from src.main.optimizer import SGD\n",
    "from src.main.callback import EarlyStopping\n",
    "\n",
    "x_train, y_train, x_test, y_test = get_monk(1)\n",
    "\n",
    "model = Model()\n",
    "model.add(Dense(17, 4, activation=\"relu\"))\n",
    "model.add(Dense(4, 1, activation=\"sigmoid\"))\n",
    "\n",
    "optimizer = SGD(learning_rate=0.73, momentum=0.1)\n",
    "early_stopping = EarlyStopping(patience=20, start_from_epoch=200, delta=0.0001, monitor=\"loss\", restore_best_weights=True, verbose=True)\n",
    "\n",
    "model.compile(optimizer=optimizer, callback=early_stopping, loss=\"mean_squared_error\", metrics=[\"binary_accuracy\"])\n",
    "\n",
    "model.fit(x_train, y_train, x_test, y_test, epochs=5001, batch_size=12, verbose=True)\n",
    "\n",
    "print(model.evaluate(x_test, y_test))"
   ]
  }
 ],
 "metadata": {
  "kernelspec": {
   "display_name": "Python 3",
   "language": "python",
   "name": "python3"
  },
  "language_info": {
   "codemirror_mode": {
    "name": "ipython",
    "version": 3
   },
   "file_extension": ".py",
   "mimetype": "text/x-python",
   "name": "python",
   "nbconvert_exporter": "python",
   "pygments_lexer": "ipython3",
   "version": "3.10.12"
  }
 },
 "nbformat": 4,
 "nbformat_minor": 5
}
