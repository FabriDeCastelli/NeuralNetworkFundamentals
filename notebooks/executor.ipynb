{
 "cells": [
  {
   "cell_type": "markdown",
   "id": "ffbaac50",
   "metadata": {},
   "source": [
    "For solving path dependencies"
   ]
  },
  {
   "cell_type": "code",
   "execution_count": 2,
   "id": "initial_id",
   "metadata": {
    "collapsed": true,
    "ExecuteTime": {
     "end_time": "2023-12-28T17:28:57.491346Z",
     "start_time": "2023-12-28T17:28:57.487854Z"
    }
   },
   "outputs": [],
   "source": [
    "import sys\n",
    "import os\n",
    "\n",
    "current_dir = %pwd\n",
    "\n",
    "# Detect the parent directory dynamically\n",
    "parent_dir = os.path.abspath(os.path.join(current_dir, '..'))\n",
    "sys.path.append(parent_dir)"
   ]
  },
  {
   "cell_type": "code",
   "execution_count": 7,
   "id": "daa3a54f",
   "metadata": {
    "ExecuteTime": {
     "end_time": "2023-12-28T17:30:20.474209Z",
     "start_time": "2023-12-28T17:30:20.449529Z"
    }
   },
   "outputs": [
    {
     "ename": "ModuleNotFoundError",
     "evalue": "No module named 'joblib'",
     "output_type": "error",
     "traceback": [
      "\u001B[0;31m---------------------------------------------------------------------------\u001B[0m",
      "\u001B[0;31mModuleNotFoundError\u001B[0m                       Traceback (most recent call last)",
      "Cell \u001B[0;32mIn[7], line 1\u001B[0m\n\u001B[0;32m----> 1\u001B[0m \u001B[38;5;28;01mfrom\u001B[39;00m \u001B[38;5;21;01msrc\u001B[39;00m\u001B[38;5;21;01m.\u001B[39;00m\u001B[38;5;21;01mmain\u001B[39;00m\u001B[38;5;21;01m.\u001B[39;00m\u001B[38;5;21;01mevaluation\u001B[39;00m\u001B[38;5;21;01m.\u001B[39;00m\u001B[38;5;21;01mholdout_CV\u001B[39;00m \u001B[38;5;28;01mimport\u001B[39;00m holdout_CV\n\u001B[1;32m      2\u001B[0m \u001B[38;5;28;01mfrom\u001B[39;00m \u001B[38;5;21;01msrc\u001B[39;00m\u001B[38;5;21;01m.\u001B[39;00m\u001B[38;5;21;01mmain\u001B[39;00m\u001B[38;5;21;01m.\u001B[39;00m\u001B[38;5;21;01mevaluation\u001B[39;00m\u001B[38;5;21;01m.\u001B[39;00m\u001B[38;5;21;01mgrid_search\u001B[39;00m \u001B[38;5;28;01mimport\u001B[39;00m RandomGridSearch\n\u001B[1;32m      3\u001B[0m \u001B[38;5;28;01mfrom\u001B[39;00m \u001B[38;5;21;01msrc\u001B[39;00m\u001B[38;5;21;01m.\u001B[39;00m\u001B[38;5;21;01mmain\u001B[39;00m\u001B[38;5;21;01m.\u001B[39;00m\u001B[38;5;21;01mutils\u001B[39;00m \u001B[38;5;28;01mimport\u001B[39;00m load_hparams\n",
      "File \u001B[0;32m~/Desktop/Magistrale/Machine Learning/ML_Project-2023-24/src/main/evaluation/holdout_CV.py:3\u001B[0m\n\u001B[1;32m      1\u001B[0m \u001B[38;5;28;01mimport\u001B[39;00m \u001B[38;5;21;01mnumpy\u001B[39;00m \u001B[38;5;28;01mas\u001B[39;00m \u001B[38;5;21;01mnp\u001B[39;00m\n\u001B[0;32m----> 3\u001B[0m \u001B[38;5;28;01mfrom\u001B[39;00m \u001B[38;5;21;01m.\u001B[39;00m\u001B[38;5;21;01mgrid_search\u001B[39;00m \u001B[38;5;28;01mimport\u001B[39;00m GridSearch\n\u001B[1;32m      4\u001B[0m \u001B[38;5;28;01mfrom\u001B[39;00m \u001B[38;5;21;01msrc\u001B[39;00m\u001B[38;5;21;01m.\u001B[39;00m\u001B[38;5;21;01mmain\u001B[39;00m\u001B[38;5;21;01m.\u001B[39;00m\u001B[38;5;21;01mutils\u001B[39;00m \u001B[38;5;28;01mimport\u001B[39;00m shuffle_data\n\u001B[1;32m      5\u001B[0m \u001B[38;5;28;01mfrom\u001B[39;00m \u001B[38;5;21;01msrc\u001B[39;00m\u001B[38;5;21;01m.\u001B[39;00m\u001B[38;5;21;01mmain\u001B[39;00m\u001B[38;5;21;01m.\u001B[39;00m\u001B[38;5;21;01mutils\u001B[39;00m \u001B[38;5;28;01mimport\u001B[39;00m plot_history\n",
      "File \u001B[0;32m~/Desktop/Magistrale/Machine Learning/ML_Project-2023-24/src/main/evaluation/grid_search.py:2\u001B[0m\n\u001B[1;32m      1\u001B[0m \u001B[38;5;28;01mimport\u001B[39;00m \u001B[38;5;21;01mnumpy\u001B[39;00m \u001B[38;5;28;01mas\u001B[39;00m \u001B[38;5;21;01mnp\u001B[39;00m\n\u001B[0;32m----> 2\u001B[0m \u001B[38;5;28;01mfrom\u001B[39;00m \u001B[38;5;21;01mjoblib\u001B[39;00m \u001B[38;5;28;01mimport\u001B[39;00m Parallel, delayed\n\u001B[1;32m      3\u001B[0m \u001B[38;5;28;01mfrom\u001B[39;00m \u001B[38;5;21;01msrc\u001B[39;00m\u001B[38;5;21;01m.\u001B[39;00m\u001B[38;5;21;01mmain\u001B[39;00m\u001B[38;5;21;01m.\u001B[39;00m\u001B[38;5;21;01mutils\u001B[39;00m \u001B[38;5;28;01mimport\u001B[39;00m load_hparams, create_model\n\u001B[1;32m      4\u001B[0m \u001B[38;5;28;01mimport\u001B[39;00m \u001B[38;5;21;01mitertools\u001B[39;00m\n",
      "\u001B[0;31mModuleNotFoundError\u001B[0m: No module named 'joblib'"
     ]
    }
   ],
   "source": [
    "from src.main.evaluation.holdout_CV import holdout_CV\n",
    "from src.main.evaluation.grid_search import RandomGridSearch\n",
    "from src.main.utils import load_hparams\n",
    "from src.main.dataset_handler import get_monk\n",
    "\n",
    "\n",
    "def print_score(mean, std):\n",
    "    for key in mean.keys():\n",
    "        print(key, \"\\t\", mean[key], \"+\\-\", std[key])\n",
    "\n",
    "\n",
    "x_train, y_train, x_test, y_test = get_monk(1)\n",
    "\n",
    "hyperparameters = load_hparams(\"monk1\")\n",
    "grid_search = RandomGridSearch(hyperparameters)\n",
    "train_mean, train_std, val_mean, val_std, test_mean, test_std, model = (\n",
    "    holdout_CV(x_train, y_train, grid_search, 5, verbose=False)\n",
    ")\n",
    "\n",
    "\"\"\"for i,model in enumerate(models): \n",
    "    print(\"------ Modello \",i+1,\" ------\")\n",
    "    print(model.summary())\"\"\"\n",
    "\n",
    "\n",
    "print(\"------ Train scores: ------ \")\n",
    "print_score(train_mean, train_std)\n",
    "print(\"------ Validation scores: ------ \")\n",
    "print_score(val_mean, val_std)\n",
    "print(\"------ Test scores: ------ \")\n",
    "print_score(test_mean, test_std)\n"
   ]
  },
  {
   "cell_type": "code",
   "execution_count": 3,
   "id": "58f7fd84",
   "metadata": {},
   "outputs": [
    {
     "ename": "TypeError",
     "evalue": "type list doesn't define __round__ method",
     "output_type": "error",
     "traceback": [
      "\u001B[0;31m---------------------------------------------------------------------------\u001B[0m",
      "\u001B[0;31mTypeError\u001B[0m                                 Traceback (most recent call last)",
      "Cell \u001B[0;32mIn[3], line 3\u001B[0m\n\u001B[1;32m      1\u001B[0m \u001B[38;5;28;01mfrom\u001B[39;00m \u001B[38;5;21;01msrc\u001B[39;00m\u001B[38;5;21;01m.\u001B[39;00m\u001B[38;5;21;01mmain\u001B[39;00m\u001B[38;5;21;01m.\u001B[39;00m\u001B[38;5;21;01mutils\u001B[39;00m \u001B[38;5;28;01mimport\u001B[39;00m compute_metrics, log_experiment, setup_experiment\n\u001B[0;32m----> 3\u001B[0m \u001B[43mlog_experiment\u001B[49m\u001B[43m(\u001B[49m\u001B[43msetup_experiment\u001B[49m\u001B[43m(\u001B[49m\u001B[38;5;124;43m\"\u001B[39;49m\u001B[38;5;124;43mex1\u001B[39;49m\u001B[38;5;124;43m\"\u001B[39;49m\u001B[43m)\u001B[49m\u001B[43m,\u001B[49m\u001B[43mmodel\u001B[49m\u001B[43m,\u001B[49m\u001B[43m \u001B[49m\u001B[43mtrain_mean\u001B[49m\u001B[43m,\u001B[49m\u001B[43m \u001B[49m\u001B[43mtrain_std\u001B[49m\u001B[43m,\u001B[49m\u001B[43m \u001B[49m\u001B[43mval_mean\u001B[49m\u001B[43m,\u001B[49m\u001B[43m \u001B[49m\u001B[43mval_std\u001B[49m\u001B[43m,\u001B[49m\u001B[43m \u001B[49m\u001B[43mtest_mean\u001B[49m\u001B[43m,\u001B[49m\u001B[43m \u001B[49m\u001B[43mtest_std\u001B[49m\u001B[43m)\u001B[49m\n",
      "File \u001B[0;32m~/Desktop/unipi/MAGISTRALE/machine_learning/project/ML_Project-2023-24/src/main/utils.py:146\u001B[0m, in \u001B[0;36mlog_experiment\u001B[0;34m(exp_dir, model, train_mean, train_std, val_mean, val_std, test_mean, test_std, history)\u001B[0m\n\u001B[1;32m    133\u001B[0m \u001B[38;5;28;01mdef\u001B[39;00m \u001B[38;5;21mlog_experiment\u001B[39m(exp_dir, model, train_mean, train_std, val_mean, val_std, test_mean, test_std, history\u001B[38;5;241m=\u001B[39m\u001B[38;5;28;01mNone\u001B[39;00m):\n\u001B[1;32m    134\u001B[0m \u001B[38;5;250m    \u001B[39m\u001B[38;5;124;03m\"\"\"\u001B[39;00m\n\u001B[1;32m    135\u001B[0m \u001B[38;5;124;03m    Logs the results of an experiments on a csv file inside exp_dir\u001B[39;00m\n\u001B[1;32m    136\u001B[0m \n\u001B[0;32m   (...)\u001B[0m\n\u001B[1;32m    144\u001B[0m \u001B[38;5;124;03m    :param test_std: the standard deviation of the scores on the test set\u001B[39;00m\n\u001B[1;32m    145\u001B[0m \u001B[38;5;124;03m    \"\"\"\u001B[39;00m\n\u001B[0;32m--> 146\u001B[0m     metrics \u001B[38;5;241m=\u001B[39m \u001B[43mcompute_metrics\u001B[49m\u001B[43m(\u001B[49m\u001B[43mmodel\u001B[49m\u001B[43m,\u001B[49m\u001B[43m \u001B[49m\u001B[43mtrain_mean\u001B[49m\u001B[43m,\u001B[49m\u001B[43m \u001B[49m\u001B[43mtrain_std\u001B[49m\u001B[43m,\u001B[49m\u001B[43m \u001B[49m\u001B[43mval_mean\u001B[49m\u001B[43m,\u001B[49m\u001B[43m \u001B[49m\u001B[43mval_std\u001B[49m\u001B[43m,\u001B[49m\u001B[43m \u001B[49m\u001B[43mtest_mean\u001B[49m\u001B[43m,\u001B[49m\u001B[43m \u001B[49m\u001B[43mtest_std\u001B[49m\u001B[43m)\u001B[49m\n\u001B[1;32m    147\u001B[0m     metrics\u001B[38;5;241m.\u001B[39mto_csv(exp_dir \u001B[38;5;241m/\u001B[39m \u001B[38;5;124m\"\u001B[39m\u001B[38;5;124mmetrics.csv\u001B[39m\u001B[38;5;124m\"\u001B[39m, index\u001B[38;5;241m=\u001B[39m\u001B[38;5;28;01mFalse\u001B[39;00m, decimal\u001B[38;5;241m=\u001B[39m\u001B[38;5;124m'\u001B[39m\u001B[38;5;124m,\u001B[39m\u001B[38;5;124m'\u001B[39m)\n\u001B[1;32m    148\u001B[0m     \u001B[38;5;28;01mif\u001B[39;00m history \u001B[38;5;129;01mis\u001B[39;00m \u001B[38;5;129;01mnot\u001B[39;00m \u001B[38;5;28;01mNone\u001B[39;00m:\n",
      "File \u001B[0;32m~/Desktop/unipi/MAGISTRALE/machine_learning/project/ML_Project-2023-24/src/main/utils.py:124\u001B[0m, in \u001B[0;36mcompute_metrics\u001B[0;34m(model, train_mean, train_std, val_mean, val_std, test_mean, test_std)\u001B[0m\n\u001B[1;32m    122\u001B[0m \u001B[38;5;28;01mfor\u001B[39;00m metric \u001B[38;5;129;01min\u001B[39;00m metrics:\n\u001B[1;32m    123\u001B[0m     means\u001B[38;5;241m.\u001B[39mextend(round_number(train_mean[metric], val_mean[metric], test_mean[metric]))\n\u001B[0;32m--> 124\u001B[0m     stds\u001B[38;5;241m.\u001B[39mextend(\u001B[43mround_number\u001B[49m\u001B[43m(\u001B[49m\u001B[43mtrain_std\u001B[49m\u001B[43m[\u001B[49m\u001B[43mmetric\u001B[49m\u001B[43m]\u001B[49m\u001B[43m,\u001B[49m\u001B[43m \u001B[49m\u001B[43mval_std\u001B[49m\u001B[43m[\u001B[49m\u001B[43mmetric\u001B[49m\u001B[43m]\u001B[49m\u001B[43m,\u001B[49m\u001B[43m \u001B[49m\u001B[43mtest_std\u001B[49m\u001B[43m[\u001B[49m\u001B[43mmetric\u001B[49m\u001B[43m]\u001B[49m\u001B[43m)\u001B[49m)\n\u001B[1;32m    126\u001B[0m metrics \u001B[38;5;241m=\u001B[39m [el \u001B[38;5;28;01mfor\u001B[39;00m el \u001B[38;5;129;01min\u001B[39;00m metrics \u001B[38;5;28;01mfor\u001B[39;00m _ \u001B[38;5;129;01min\u001B[39;00m \u001B[38;5;28mrange\u001B[39m(\u001B[38;5;241m3\u001B[39m)]\n\u001B[1;32m    128\u001B[0m data \u001B[38;5;241m=\u001B[39m {\u001B[38;5;124m'\u001B[39m\u001B[38;5;124mMetrics\u001B[39m\u001B[38;5;124m'\u001B[39m: metrics, \u001B[38;5;124m'\u001B[39m\u001B[38;5;124mSet\u001B[39m\u001B[38;5;124m'\u001B[39m: sets \u001B[38;5;241m*\u001B[39m (\u001B[38;5;28mlen\u001B[39m(metrics) \u001B[38;5;241m/\u001B[39m\u001B[38;5;241m/\u001B[39m \u001B[38;5;241m3\u001B[39m), \u001B[38;5;124m'\u001B[39m\u001B[38;5;124mMean\u001B[39m\u001B[38;5;124m'\u001B[39m: means, \u001B[38;5;124m'\u001B[39m\u001B[38;5;124mStd\u001B[39m\u001B[38;5;124m'\u001B[39m: stds}\n",
      "File \u001B[0;32m~/Desktop/unipi/MAGISTRALE/machine_learning/project/ML_Project-2023-24/src/main/utils.py:114\u001B[0m, in \u001B[0;36mcompute_metrics.<locals>.round_number\u001B[0;34m(x, y, z)\u001B[0m\n\u001B[1;32m    113\u001B[0m \u001B[38;5;28;01mdef\u001B[39;00m \u001B[38;5;21mround_number\u001B[39m(x, y, z):\n\u001B[0;32m--> 114\u001B[0m     \u001B[38;5;28;01mreturn\u001B[39;00m [\u001B[38;5;28mround\u001B[39m(x, \u001B[38;5;241m4\u001B[39m), \u001B[38;5;28mround\u001B[39m(y, \u001B[38;5;241m4\u001B[39m), \u001B[38;5;28;43mround\u001B[39;49m\u001B[43m(\u001B[49m\u001B[43mz\u001B[49m\u001B[43m,\u001B[49m\u001B[43m \u001B[49m\u001B[38;5;241;43m4\u001B[39;49m\u001B[43m)\u001B[49m]\n",
      "\u001B[0;31mTypeError\u001B[0m: type list doesn't define __round__ method"
     ]
    }
   ],
   "source": [
    "from src.main.utils import compute_metrics, log_experiment, setup_experiment\n",
    "\n",
    "log_experiment(setup_experiment(\"ex1\"),model, train_mean, train_std, val_mean, val_std, test_mean, test_std)"
   ]
  }
 ],
 "metadata": {
  "kernelspec": {
   "display_name": "Python 3",
   "language": "python",
   "name": "python3"
  },
  "language_info": {
   "codemirror_mode": {
    "name": "ipython",
    "version": 3
   },
   "file_extension": ".py",
   "mimetype": "text/x-python",
   "name": "python",
   "nbconvert_exporter": "python",
   "pygments_lexer": "ipython3",
   "version": "3.10.12"
  }
 },
 "nbformat": 4,
 "nbformat_minor": 5
}
