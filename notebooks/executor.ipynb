{
 "cells": [
  {
   "cell_type": "markdown",
   "id": "ffbaac50",
   "metadata": {},
   "source": [
    "For solving path dependencies"
   ]
  },
  {
   "cell_type": "code",
   "execution_count": 1,
   "id": "initial_id",
   "metadata": {
    "collapsed": true
   },
   "outputs": [],
   "source": [
    "import sys\n",
    "import os\n",
    "\n",
    "current_dir = %pwd\n",
    "\n",
    "# Detect the parent directory dynamically\n",
    "parent_dir = os.path.abspath(os.path.join(current_dir, '..'))\n",
    "sys.path.append(parent_dir)\n",
    "\n",
    "\n",
    "# DEVE CHIAMARE LOG EXPERIMENTS PER SALVARE GLI ESPERIMENTI SU UN CSV"
   ]
  },
  {
   "cell_type": "code",
   "execution_count": 2,
   "id": "daa3a54f",
   "metadata": {},
   "outputs": [
    {
     "name": "stdout",
     "output_type": "stream",
     "text": [
      "------ Train scores: ------ \n",
      "binary_accuracy \t 0.99 +\\- 0.020000000000000018\n",
      "mean_squared_error_loss \t 0.00935352128075462 +\\- 0.01382252822274999\n",
      "------ Validation scores: ------ \n",
      "binary_accuracy \t 0.9400000000000001 +\\- 0.12000000000000002\n",
      "mean_squared_error_loss \t 0.03337865620699927 +\\- 0.0545566877417491\n",
      "------ Test scores: ------ \n",
      "binary_accuracy \t 0.944 +\\- 0.06974238309665079\n",
      "mean_squared_error_loss \t 0.05437101300146665 +\\- 0.058341775245226206\n"
     ]
    }
   ],
   "source": [
    "from src.main.evaluation.double_kfold_cross_validation import double_Kfold_CV\n",
    "from src.main.evaluation.grid_search import RandomGridSearch\n",
    "from src.main.utils import load_hparams\n",
    "from src.main.dataset_handler import get_monk\n",
    "\n",
    "\n",
    "def print_score(mean, std):\n",
    "    for key in mean.keys():\n",
    "        print(key, \"\\t\", mean[key], \"+\\-\", std[key])\n",
    "\n",
    "\n",
    "x_train, y_train, x_test, y_test = get_monk(1)\n",
    "\n",
    "hyperparameters = load_hparams(\"nn\")\n",
    "grid_search = RandomGridSearch(hyperparameters)\n",
    "train_mean, train_std, val_mean, val_std, test_mean, test_std, models = (\n",
    "    double_Kfold_CV(x_train, y_train, grid_search, 5, verbose=False)\n",
    ")\n",
    "\n",
    "\"\"\"for i,model in enumerate(models): \n",
    "    print(\"------ Modello \",i+1,\" ------\")\n",
    "    print(model.summary())\"\"\"\n",
    "\n",
    "\n",
    "print(\"------ Train scores: ------ \")\n",
    "print_score(train_mean, train_std)\n",
    "print(\"------ Validation scores: ------ \")\n",
    "print_score(val_mean, val_std)\n",
    "print(\"------ Test scores: ------ \")\n",
    "print_score(test_mean, test_std)\n"
   ]
  },
  {
   "cell_type": "code",
   "execution_count": 3,
   "id": "58f7fd84",
   "metadata": {},
   "outputs": [
    {
     "name": "stdout",
     "output_type": "stream",
     "text": [
      "--- ROUNDED: [0.99, 0.94, 0.944, 0.0094, 0.0334, 0.0544] [0.02, 0.12, 0.0697, 0.0138, 0.0546, 0.0583]\n",
      "--- ROUNDED: [0.99, 0.94, 0.944, 0.0094, 0.0334, 0.0544] [0.02, 0.12, 0.0697, 0.0138, 0.0546, 0.0583]\n"
     ]
    }
   ],
   "source": [
    "from src.main.utils import compute_metrics, log_experiment, setup_experiment\n",
    "\n",
    "log_experiment(setup_experiment(\"ex1\"),models[0], train_mean, train_std, val_mean, val_std, test_mean, test_std)"
   ]
  }
 ],
 "metadata": {
  "kernelspec": {
   "display_name": "Python 3",
   "language": "python",
   "name": "python3"
  },
  "language_info": {
   "codemirror_mode": {
    "name": "ipython",
    "version": 3
   },
   "file_extension": ".py",
   "mimetype": "text/x-python",
   "name": "python",
   "nbconvert_exporter": "python",
   "pygments_lexer": "ipython3",
   "version": "3.10.12"
  }
 },
 "nbformat": 4,
 "nbformat_minor": 5
}
